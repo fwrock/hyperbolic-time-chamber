{
 "cells": [
  {
   "cell_type": "markdown",
   "id": "0a643bcd",
   "metadata": {},
   "source": [
    "# Traffic Flow Analysis - Interactive Notebook\n",
    "\n",
    "Este notebook demonstra como usar o sistema de análise de tráfego para gerar insights sobre os padrões de mobilidade urbana do seu projeto de Hyperbolic Time Chamber.\n",
    "\n",
    "## Análises Disponíveis:\n",
    "- 🔥 **Heatmaps de tráfego** por horário e localização\n",
    "- 📊 **Gráficos densidade vs. velocidade**\n",
    "- 🚧 **Análise de gargalos** na rede viária\n",
    "- 🗺️ **Padrões de mobilidade urbana** temporal\n",
    "- ⚡ **Eficiência de rotas** calculadas\n",
    "- 📈 **Indicadores de performance** da rede"
   ]
  },
  {
   "cell_type": "markdown",
   "id": "fc6d4e78",
   "metadata": {},
   "source": [
    "## 1. Setup e Configuração"
   ]
  },
  {
   "cell_type": "code",
   "execution_count": null,
   "id": "e46f6ca9",
   "metadata": {},
   "outputs": [],
   "source": [
    "# Importações necessárias\n",
    "import sys\n",
    "import pandas as pd\n",
    "import numpy as np\n",
    "from pathlib import Path\n",
    "import warnings\n",
    "warnings.filterwarnings('ignore')\n",
    "\n",
    "# Adicionar caminho do projeto\n",
    "project_root = Path('.').absolute()\n",
    "sys.path.append(str(project_root))\n",
    "\n",
    "print(f\"📂 Diretório de trabalho: {project_root}\")"
   ]
  },
  {
   "cell_type": "code",
   "execution_count": null,
   "id": "34f384e9",
   "metadata": {},
   "outputs": [],
   "source": [
    "# Importar módulos de análise\n",
    "from config import CASSANDRA_CONFIG, VISUALIZATION_CONFIG\n",
    "from data_sources.cassandra_source import CassandraDataSource\n",
    "from data_sources.file_sources import CSVDataSource, JSONDataSource\n",
    "from analysis.traffic_analyzer import TrafficAnalyzer\n",
    "from visualization.traffic_viz import TrafficVisualizer\n",
    "from reports.report_generator import TrafficReportGenerator\n",
    "\n",
    "print(\"✅ Módulos importados com sucesso!\")"
   ]
  },
  {
   "cell_type": "markdown",
   "id": "66ab13d7",
   "metadata": {},
   "source": [
    "## 2. Carregamento de Dados\n",
    "\n",
    "Escolha a fonte de dados (descomente a opção desejada):"
   ]
  },
  {
   "cell_type": "code",
   "execution_count": null,
   "id": "5439aa70",
   "metadata": {},
   "outputs": [],
   "source": [
    "# Opção 1: Dados do Cassandra (recomendado)\n",
    "data_source = CassandraDataSource()\n",
    "if data_source.connect():\n",
    "    print(\"🔌 Conectado ao Cassandra com sucesso!\")\n",
    "    \n",
    "    # Listar simulações disponíveis\n",
    "    simulations = data_source.get_simulation_ids()\n",
    "    print(f\"📋 Simulações disponíveis: {simulations}\")\n",
    "    \n",
    "    # Carregar dados da simulação mais recente (ou especificar uma)\n",
    "    simulation_id = simulations[0] if simulations else None\n",
    "    print(f\"🎯 Usando simulação: {simulation_id}\")\n",
    "    \n",
    "    # Carregar dados de fluxo de veículos\n",
    "    data = data_source.get_vehicle_flow_data(\n",
    "        simulation_id=simulation_id,\n",
    "        limit=5000  # Limitar para análise interativa\n",
    "    )\n",
    "else:\n",
    "    print(\"❌ Falha na conexão com Cassandra\")\n",
    "    data = pd.DataFrame()\n",
    "\n",
    "# # Opção 2: Dados de arquivo CSV\n",
    "# csv_source = CSVDataSource()\n",
    "# data = csv_source.load_vehicle_flow_data(combine_files=True)\n",
    "\n",
    "# # Opção 3: Dados de arquivo JSON\n",
    "# json_source = JSONDataSource()\n",
    "# data = json_source.load_vehicle_flow_data(combine_files=True)\n",
    "\n",
    "print(f\"📊 Carregados {len(data):,} registros de fluxo de veículos\")\n",
    "if not data.empty:\n",
    "    print(f\"📅 Período: {data['timestamp'].min()} até {data['timestamp'].max()}\")\n",
    "    print(f\"🚗 Veículos únicos: {data['car_id'].nunique() if 'car_id' in data.columns else 'N/A'}\")\n",
    "    print(f\"🛣️ Links únicos: {data['link_id'].nunique() if 'link_id' in data.columns else 'N/A'}\")"
   ]
  },
  {
   "cell_type": "markdown",
   "id": "38d8e351",
   "metadata": {},
   "source": [
    "## 3. Análise Exploratória dos Dados"
   ]
  },
  {
   "cell_type": "code",
   "execution_count": null,
   "id": "51ffe0fa",
   "metadata": {},
   "outputs": [],
   "source": [
    "# Visualizar primeiras linhas\n",
    "print(\"📋 Estrutura dos dados:\")\n",
    "display(data.head())\n",
    "\n",
    "print(\"\\n📊 Informações dos dados:\")\n",
    "display(data.info())\n",
    "\n",
    "print(\"\\n📈 Estatísticas descritivas:\")\n",
    "display(data.describe())"
   ]
  },
  {
   "cell_type": "code",
   "execution_count": null,
   "id": "8f8fbfca",
   "metadata": {},
   "outputs": [],
   "source": [
    "# Verificar tipos de eventos\n",
    "if 'event_type' in data.columns:\n",
    "    print(\"📋 Distribuição de tipos de eventos:\")\n",
    "    event_counts = data['event_type'].value_counts()\n",
    "    display(event_counts)\n",
    "    \n",
    "    # Gráfico simples\n",
    "    import matplotlib.pyplot as plt\n",
    "    plt.figure(figsize=(10, 6))\n",
    "    event_counts.plot(kind='bar')\n",
    "    plt.title('Distribuição de Tipos de Eventos')\n",
    "    plt.xlabel('Tipo de Evento')\n",
    "    plt.ylabel('Quantidade')\n",
    "    plt.xticks(rotation=45)\n",
    "    plt.tight_layout()\n",
    "    plt.show()"
   ]
  },
  {
   "cell_type": "markdown",
   "id": "e3a90b19",
   "metadata": {},
   "source": [
    "## 4. Análise de Tráfego Completa"
   ]
  },
  {
   "cell_type": "code",
   "execution_count": null,
   "id": "b9b16cd9",
   "metadata": {},
   "outputs": [],
   "source": [
    "# Inicializar analisador\n",
    "analyzer = TrafficAnalyzer(data)\n",
    "\n",
    "# Métricas básicas\n",
    "print(\"📊 Calculando métricas básicas...\")\n",
    "basic_metrics = analyzer.calculate_basic_metrics()\n",
    "display(basic_metrics)"
   ]
  },
  {
   "cell_type": "code",
   "execution_count": null,
   "id": "b97ec0c5",
   "metadata": {},
   "outputs": [],
   "source": [
    "# Padrões de tráfego\n",
    "print(\"🕐 Analisando padrões temporais...\")\n",
    "traffic_patterns = analyzer.analyze_traffic_patterns()\n",
    "display(traffic_patterns)"
   ]
  },
  {
   "cell_type": "code",
   "execution_count": null,
   "id": "829a3768",
   "metadata": {},
   "outputs": [],
   "source": [
    "# Identificar gargalos\n",
    "print(\"🚧 Identificando gargalos...\")\n",
    "bottlenecks = analyzer.identify_bottlenecks()\n",
    "\n",
    "print(f\"Encontrados {len(bottlenecks)} gargalos\")\n",
    "if bottlenecks:\n",
    "    print(\"\\nTop 5 gargalos mais críticos:\")\n",
    "    for i, bottleneck in enumerate(bottlenecks[:5], 1):\n",
    "        print(f\"{i}. Link {bottleneck['link_id']}: \"\n",
    "              f\"Severidade {bottleneck['severity_score']:.3f}, \"\n",
    "              f\"Velocidade média {bottleneck['avg_speed']:.1f} km/h\")"
   ]
  },
  {
   "cell_type": "code",
   "execution_count": null,
   "id": "eb9e4810",
   "metadata": {},
   "outputs": [],
   "source": [
    "# Análise de eficiência de rotas\n",
    "print(\"⚡ Analisando eficiência de rotas...\")\n",
    "route_efficiency = analyzer.analyze_route_efficiency()\n",
    "display(route_efficiency)"
   ]
  },
  {
   "cell_type": "code",
   "execution_count": null,
   "id": "063da125",
   "metadata": {},
   "outputs": [],
   "source": [
    "# Indicadores de mobilidade\n",
    "print(\"🗺️ Calculando indicadores de mobilidade...\")\n",
    "mobility_indicators = analyzer.calculate_mobility_indicators()\n",
    "display(mobility_indicators)"
   ]
  },
  {
   "cell_type": "markdown",
   "id": "2d125779",
   "metadata": {},
   "source": [
    "## 5. Visualizações Interativas"
   ]
  },
  {
   "cell_type": "code",
   "execution_count": null,
   "id": "0ca1ab7a",
   "metadata": {},
   "outputs": [],
   "source": [
    "# Inicializar visualizador\n",
    "visualizer = TrafficVisualizer(data)\n",
    "\n",
    "# Heatmap de tráfego\n",
    "print(\"🔥 Gerando heatmap de tráfego...\")\n",
    "heatmap_fig = visualizer.create_traffic_heatmap()\n",
    "heatmap_fig.show()"
   ]
  },
  {
   "cell_type": "code",
   "execution_count": null,
   "id": "d695d2b3",
   "metadata": {},
   "outputs": [],
   "source": [
    "# Gráfico velocidade vs densidade\n",
    "print(\"📊 Criando gráfico velocidade vs densidade...\")\n",
    "speed_density_fig = visualizer.create_speed_density_plot()\n",
    "speed_density_fig.show()"
   ]
  },
  {
   "cell_type": "code",
   "execution_count": null,
   "id": "1470a23b",
   "metadata": {},
   "outputs": [],
   "source": [
    "# Análise de gargalos\n",
    "if bottlenecks:\n",
    "    print(\"🚧 Visualizando análise de gargalos...\")\n",
    "    bottleneck_fig = visualizer.create_bottleneck_analysis(bottlenecks)\n",
    "    bottleneck_fig.show()"
   ]
  },
  {
   "cell_type": "code",
   "execution_count": null,
   "id": "6239818b",
   "metadata": {},
   "outputs": [],
   "source": [
    "# Padrões de mobilidade\n",
    "print(\"🗺️ Visualizando padrões de mobilidade...\")\n",
    "mobility_fig = visualizer.create_mobility_patterns()\n",
    "mobility_fig.show()"
   ]
  },
  {
   "cell_type": "code",
   "execution_count": null,
   "id": "1cbd4942",
   "metadata": {},
   "outputs": [],
   "source": [
    "# Dashboard de eficiência de rotas\n",
    "if route_efficiency:\n",
    "    print(\"⚡ Criando dashboard de eficiência...\")\n",
    "    efficiency_fig = visualizer.create_route_efficiency_dashboard(route_efficiency)\n",
    "    efficiency_fig.show()"
   ]
  },
  {
   "cell_type": "markdown",
   "id": "ad163157",
   "metadata": {},
   "source": [
    "## 6. Relatório Executivo"
   ]
  },
  {
   "cell_type": "code",
   "execution_count": null,
   "id": "e5db67b6",
   "metadata": {},
   "outputs": [],
   "source": [
    "# Compilar todos os resultados\n",
    "analysis_results = {\n",
    "    'basic_metrics': basic_metrics,\n",
    "    'traffic_patterns': traffic_patterns,\n",
    "    'bottlenecks': bottlenecks,\n",
    "    'route_efficiency': route_efficiency,\n",
    "    'mobility_indicators': mobility_indicators\n",
    "}\n",
    "\n",
    "# Gerar relatório executivo\n",
    "reporter = TrafficReportGenerator()\n",
    "executive_summary = reporter.generate_executive_summary(analysis_results)\n",
    "\n",
    "print(\"📋 RESUMO EXECUTIVO\")\n",
    "print(\"=\" * 50)\n",
    "\n",
    "overview = executive_summary['overview']\n",
    "print(f\"🚗 Total de veículos analisados: {overview['total_vehicles_analyzed']:,}\")\n",
    "print(f\"📊 Total de eventos capturados: {overview['total_events_captured']:,}\")\n",
    "print(f\"🛣️ Links monitorados: {overview['unique_links_monitored']:,}\")\n",
    "\n",
    "findings = executive_summary['key_findings']\n",
    "print(f\"\\n🔍 DESCOBERTAS PRINCIPAIS:\")\n",
    "print(f\"• Velocidade média da rede: {findings['average_speed']:.1f} km/h\")\n",
    "print(f\"• Gargalos identificados: {findings['bottleneck_count']}\")\n",
    "print(f\"• Eficiência da rede: {findings['network_efficiency']:.1%}\")\n",
    "\n",
    "if findings['peak_traffic_hours']:\n",
    "    print(f\"• Horários de pico: {', '.join(map(str, findings['peak_traffic_hours']))}\")\n",
    "\n",
    "print(f\"\\n💡 RECOMENDAÇÕES:\")\n",
    "for i, rec in enumerate(executive_summary['recommendations'], 1):\n",
    "    print(f\"{i}. {rec}\")\n",
    "\n",
    "if executive_summary['critical_issues']:\n",
    "    print(f\"\\n⚠️ QUESTÕES CRÍTICAS:\")\n",
    "    for issue in executive_summary['critical_issues']:\n",
    "        print(f\"• {issue['title']}: {issue['description']}\")"
   ]
  },
  {
   "cell_type": "markdown",
   "id": "b1ddfd04",
   "metadata": {},
   "source": [
    "## 7. Salvar Resultados"
   ]
  },
  {
   "cell_type": "code",
   "execution_count": null,
   "id": "fe214e13",
   "metadata": {},
   "outputs": [],
   "source": [
    "# Criar diretório de saída\n",
    "output_dir = Path('output') / f\"analysis_{pd.Timestamp.now().strftime('%Y%m%d_%H%M%S')}\"\n",
    "output_dir.mkdir(parents=True, exist_ok=True)\n",
    "\n",
    "print(f\"📁 Salvando resultados em: {output_dir}\")\n",
    "\n",
    "# Salvar visualizações\n",
    "viz_paths = visualizer.save_all_visualizations(\n",
    "    analysis_results,\n",
    "    output_dir=output_dir / \"visualizations\"\n",
    ")\n",
    "\n",
    "print(f\"📈 Visualizações salvas:\")\n",
    "for name, path in viz_paths.items():\n",
    "    print(f\"  • {name}: {path}\")\n",
    "\n",
    "# Salvar relatórios\n",
    "report_paths = reporter.generate_all_reports(\n",
    "    analysis_results,\n",
    "    viz_paths\n",
    ")\n",
    "\n",
    "print(f\"\\n📋 Relatórios gerados:\")\n",
    "for format_type, path in report_paths.items():\n",
    "    print(f\"  • {format_type.upper()}: {path}\")\n",
    "\n",
    "print(f\"\\n✅ Análise completa finalizada!\")\n",
    "if 'html' in report_paths:\n",
    "    print(f\"\\n🌐 Abra o relatório HTML no navegador:\")\n",
    "    print(f\"   file://{Path(report_paths['html']).absolute()}\")"
   ]
  },
  {
   "cell_type": "markdown",
   "id": "61c4dd45",
   "metadata": {},
   "source": [
    "## 8. Análises Personalizadas\n",
    "\n",
    "Use as células abaixo para análises específicas:"
   ]
  },
  {
   "cell_type": "code",
   "execution_count": null,
   "id": "ecd3c8bb",
   "metadata": {},
   "outputs": [],
   "source": [
    "# Análise personalizada 1: Links mais utilizados\n",
    "if 'link_id' in data.columns:\n",
    "    print(\"🛣️ TOP 10 LINKS MAIS UTILIZADOS:\")\n",
    "    top_links = data['link_id'].value_counts().head(10)\n",
    "    \n",
    "    for i, (link_id, count) in enumerate(top_links.items(), 1):\n",
    "        avg_speed = data[data['link_id'] == link_id]['calculated_speed'].mean() if 'calculated_speed' in data.columns else 0\n",
    "        print(f\"{i:2d}. Link {link_id}: {count:,} veículos (vel. média: {avg_speed:.1f} km/h)\")"
   ]
  },
  {
   "cell_type": "code",
   "execution_count": null,
   "id": "32ea7c2e",
   "metadata": {},
   "outputs": [],
   "source": [
    "# Análise personalizada 2: Distribuição temporal detalhada\n",
    "if 'timestamp' in data.columns:\n",
    "    print(\"🕐 ANÁLISE TEMPORAL DETALHADA:\")\n",
    "    \n",
    "    data['hour'] = data['timestamp'].dt.hour\n",
    "    hourly_stats = data.groupby('hour').agg({\n",
    "        'car_id': 'count',\n",
    "        'calculated_speed': 'mean'\n",
    "    }).round(2)\n",
    "    \n",
    "    hourly_stats.columns = ['Veículos', 'Vel_Média']\n",
    "    display(hourly_stats)"
   ]
  },
  {
   "cell_type": "code",
   "execution_count": null,
   "id": "1e1e975e",
   "metadata": {},
   "outputs": [],
   "source": [
    "# Limpeza final\n",
    "if 'data_source' in locals() and hasattr(data_source, 'close'):\n",
    "    data_source.close()\n",
    "    print(\"🔌 Conexão com Cassandra fechada\")\n",
    "\n",
    "print(\"\\n🎉 Notebook concluído com sucesso!\")\n",
    "print(\"\\n📚 Para mais análises:\")\n",
    "print(\"   • Modifique os parâmetros das funções\")\n",
    "print(\"   • Experimente diferentes filtros nos dados\")\n",
    "print(\"   • Combine múltiplas simulações\")\n",
    "print(\"   • Explore os módulos de visualização\")"
   ]
  },
  {
   "cell_type": "markdown",
   "id": "3d4c4a7b",
   "metadata": {},
   "source": [
    "---\n",
    "\n",
    "## 🚀 Próximos Passos\n",
    "\n",
    "1. **Análise Comparativa**: Compare múltiplas simulações\n",
    "2. **Análise Temporal**: Analise evolução ao longo do tempo\n",
    "3. **Otimização**: Use insights para ajustar parâmetros de simulação\n",
    "4. **Machine Learning**: Implemente modelos preditivos\n",
    "5. **Integração**: Conecte com outros sistemas de análise\n",
    "\n",
    "Para suporte técnico, consulte a documentação dos módulos ou entre em contato com a equipe de desenvolvimento."
   ]
  }
 ],
 "metadata": {
  "language_info": {
   "name": "python"
  }
 },
 "nbformat": 4,
 "nbformat_minor": 5
}
